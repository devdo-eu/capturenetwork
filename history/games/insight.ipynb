{
 "cells": [
  {
   "cell_type": "code",
   "execution_count": null,
   "metadata": {},
   "outputs": [],
   "source": [
    "import json\n",
    "import math\n",
    "import copy\n",
    "import pandas as pd\n",
    "from collections import defaultdict\n",
    "def tree(): return defaultdict(tree)"
   ]
  },
  {
   "cell_type": "code",
   "execution_count": null,
   "metadata": {},
   "outputs": [],
   "source": [
    "data = ''\n",
    "with open('..\\game_list.json', 'r') as file:\n",
    "    for line in file:\n",
    "        data += line\n",
    "    if data != '':\n",
    "        data = json.loads(data)\n",
    "           \n",
    "id_ = data[-1]['game_id']\n",
    "data = ''\n",
    "\n",
    "with open(f'{id_}/game_record.json', 'r') as file:\n",
    "    for line in file:\n",
    "        data += line        \n",
    "rounds = json.loads(data)"
   ]
  },
  {
   "cell_type": "code",
   "execution_count": null,
   "metadata": {},
   "outputs": [],
   "source": [
    "def get_name(bot, r):\n",
    "    return rounds[r][bot]['name']\n",
    "\n",
    "def get_method(bot, r):\n",
    "    return rounds[r][bot]['used']\n",
    "\n",
    "def get_points(bot, r):\n",
    "    return rounds[r][bot]['points']\n",
    "\n",
    "def get_time(bot, r):\n",
    "    return rounds[r][bot]['time']\n",
    "\n",
    "def get_round_num(r):\n",
    "    return rounds[r]['round'].split('/')[0]\n",
    "\n",
    "def get_winner(r):\n",
    "    dictionary = ['DRAW', get_name('bot_1', 0), get_name('bot_2', 0)]\n",
    "    return dictionary[rounds[r]['winner']]\n",
    "\n",
    "def get_adv(r):\n",
    "    dictionary = ['time', get_name('bot_1', 0), get_name('bot_2', 0)]\n",
    "    return dictionary[rounds[r]['advantage']]"
   ]
  },
  {
   "cell_type": "code",
   "execution_count": null,
   "metadata": {},
   "outputs": [],
   "source": [
    "methods = {'NOP()': 0, 'PATCH()': 3, 'SCAN()': 3, 'OVERLOAD()': 4, 'OVERHEAR()': 1, 'EXPLOIT()': 2, 'INFECT()': 4}\n",
    "bot = tree()\n",
    "general = tree()\n",
    "name1, name2 = get_name('bot_1', 0), get_name('bot_2', 0)\n",
    "bot['USED'][name1] = []\n",
    "bot['USED'][name2] = []\n",
    "bot['POINTS'][name1] = []\n",
    "bot['POINTS'][name2] = []\n",
    "general['RESULT'] = []\n",
    "general['ADVANTAGE'] = []\n",
    "for m in methods.keys():\n",
    "    bot['WON_WITH'][name1][m] = 0\n",
    "    bot['WON_WITH'][name2][m] = 0\n",
    "    bot['EARN_BY'][name1][m] = 0\n",
    "    bot['EARN_BY'][name2][m] = 0\n",
    "    bot['LOST_WITH'][name1][m] = 0\n",
    "    bot['LOST_WITH'][name2][m] = 0\n",
    "    \n",
    "for i in range(len(rounds)):\n",
    "    bot['USED'][name1].append(get_method('bot_1', i))\n",
    "    bot['USED'][name2].append(get_method('bot_2', i))\n",
    "    bot['POINTS'][name1].append(get_points('bot_1', i))\n",
    "    bot['POINTS'][name2].append(get_points('bot_2', i))\n",
    "    general['RESULT'].append(get_winner(i))\n",
    "    general['ADVANTAGE'].append(get_adv(i))\n",
    "    \n",
    "    if get_winner(i) == name1:\n",
    "        bot['WON_WITH'][name1][get_method('bot_1', i)] += 1\n",
    "        bot['EARN_BY'][name1][get_method('bot_1', i)] += methods[get_method('bot_1', i)]\n",
    "        bot['LOST_WITH'][name2][get_method('bot_2', i)] += 1\n",
    "    elif get_winner(i) == name2:\n",
    "        bot['WON_WITH'][name2][get_method('bot_2', i)] += 1\n",
    "        bot['EARN_BY'][name2][get_method('bot_2', i)] += methods[get_method('bot_2', i)]\n",
    "        bot['LOST_WITH'][name1][get_method('bot_1', i)] += 1"
   ]
  },
  {
   "cell_type": "code",
   "execution_count": null,
   "metadata": {},
   "outputs": [],
   "source": [
    "for m in methods.keys():\n",
    "    bot['METHS_OVER_ROUNDS'][name1][m] = []\n",
    "    bot['METHS_OVER_ROUNDS'][name2][m] = []\n",
    "bot1_meths = {'NOP()': 0, 'PATCH()': 0, 'SCAN()': 0, 'OVERLOAD()': 0, 'OVERHEAR()': 0, 'EXPLOIT()': 0, 'INFECT()': 0}\n",
    "bot2_meths = {'NOP()': 0, 'PATCH()': 0, 'SCAN()': 0, 'OVERLOAD()': 0, 'OVERHEAR()': 0, 'EXPLOIT()': 0, 'INFECT()': 0}\n",
    "\n",
    "for i in range(len(rounds)):\n",
    "    m1 = get_method('bot_1', i)\n",
    "    m2 = get_method('bot_2', i)\n",
    "    bot1_meths[m1] += 1\n",
    "    bot2_meths[m2] += 1\n",
    "    for m in methods.keys():\n",
    "        bot['METHS_OVER_ROUNDS'][name1][m].append(copy.copy(bot1_meths[m]))\n",
    "        bot['METHS_OVER_ROUNDS'][name2][m].append(copy.copy(bot2_meths[m]))"
   ]
  },
  {
   "cell_type": "code",
   "execution_count": null,
   "metadata": {},
   "outputs": [],
   "source": [
    "dfwinner = pd.read_json(json.dumps(general))\n",
    "dfwinner['RESULT'].value_counts().plot.pie(subplots=True, figsize=(10, 10), autopct='%.2f', title=[\"ROUNDS WON BY\"])"
   ]
  },
  {
   "cell_type": "code",
   "execution_count": null,
   "metadata": {},
   "outputs": [],
   "source": [
    "dfwinner['ADVANTAGE'].value_counts().plot.pie(subplots=True, figsize=(10, 10), autopct='%.2f', title=[\"ADVANTAGE AFTER ROUNDS\"])"
   ]
  },
  {
   "cell_type": "code",
   "execution_count": null,
   "metadata": {},
   "outputs": [],
   "source": [
    "df = pd.read_json(json.dumps(bot))"
   ]
  },
  {
   "cell_type": "code",
   "execution_count": null,
   "metadata": {},
   "outputs": [],
   "source": [
    "s = pd.Series(df['METHS_OVER_ROUNDS'][name1])\n",
    "s = pd.DataFrame({'NOP()': s['NOP()'], 'PATCH()': s['PATCH()'],\n",
    "                  'SCAN()': s['SCAN()'], 'OVERLOAD()': s['OVERLOAD()'],\n",
    "                 'OVERHEAR()':s['OVERHEAR()'], 'EXPLOIT()': s['EXPLOIT()'], \n",
    "                 'INFECT()': s['INFECT()']})\n",
    "s.plot(figsize=(30, 10), grid=True, title=f\"{name1} - METHODS USED OVER ROUNDS\")"
   ]
  },
  {
   "cell_type": "code",
   "execution_count": null,
   "metadata": {
    "scrolled": false
   },
   "outputs": [],
   "source": [
    "s.plot.area(figsize=(30, 20), layout=(2,4), grid=True, subplots=True, title=f\"{name1} - METHODS USED OVER ROUNDS\")"
   ]
  },
  {
   "cell_type": "code",
   "execution_count": null,
   "metadata": {},
   "outputs": [],
   "source": [
    "s = pd.Series(df['METHS_OVER_ROUNDS'][name2])\n",
    "s = pd.DataFrame({'NOP()': s['NOP()'], 'PATCH()': s['PATCH()'],\n",
    "                  'SCAN()': s['SCAN()'], 'OVERLOAD()': s['OVERLOAD()'],\n",
    "                 'OVERHEAR()':s['OVERHEAR()'], 'EXPLOIT()': s['EXPLOIT()'], \n",
    "                 'INFECT()': s['INFECT()']})\n",
    "s.plot(figsize=(30, 10), grid=True, title=f\"{name2} - METHODS USED OVER ROUNDS\")"
   ]
  },
  {
   "cell_type": "code",
   "execution_count": null,
   "metadata": {
    "scrolled": false
   },
   "outputs": [],
   "source": [
    "s.plot.area(figsize=(30, 20), layout=(2,4), grid=True, subplots=True, title=f\"{name2} - METHODS USED OVER ROUNDS\")"
   ]
  },
  {
   "cell_type": "code",
   "execution_count": null,
   "metadata": {},
   "outputs": [],
   "source": [
    "df['POINTS'][name1] = pd.Series(df['POINTS'][name1])\n",
    "df['POINTS'][name2] = pd.Series(df['POINTS'][name2])"
   ]
  },
  {
   "cell_type": "code",
   "execution_count": null,
   "metadata": {},
   "outputs": [],
   "source": [
    "df_p = pd.DataFrame({name1: df['POINTS'][name1],\n",
    "                    name2: df['POINTS'][name2]})\n",
    "df_p.plot.area(figsize=(30, 10), grid=True, stacked=False, title=\"POINTS OVER ROUNDS\")"
   ]
  },
  {
   "cell_type": "code",
   "execution_count": null,
   "metadata": {},
   "outputs": [],
   "source": [
    "df_p[f'{name1} norm'] = df_p[name1] - df_p[name2]\n",
    "df_p[f'{name2} norm'] = df_p[name2] - df_p[name1]\n",
    "df_p.drop(name1, axis=1, inplace=True)\n",
    "df_p.drop(name2, axis=1, inplace=True)\n",
    "df_p.plot.area(figsize=(30, 10), grid=True, stacked=False, title=\"POINTS ADVANTAGE OVER ROUNDS\")"
   ]
  },
  {
   "cell_type": "code",
   "execution_count": null,
   "metadata": {},
   "outputs": [],
   "source": [
    "df['EARN_BY'][name1] = pd.Series(df['EARN_BY'][name1])\n",
    "df['EARN_BY'][name2] = pd.Series(df['EARN_BY'][name2])\n",
    "df['USED'][name1] = pd.Series(df['USED'][name1])\n",
    "df['USED'][name2] = pd.Series(df['USED'][name2])"
   ]
  },
  {
   "cell_type": "code",
   "execution_count": null,
   "metadata": {},
   "outputs": [],
   "source": [
    "methods = {'NOP()': 0, 'PATCH()': 0, 'SCAN()': 0, 'OVERLOAD()': 0, 'OVERHEAR()': 0, 'EXPLOIT()': 0, 'INFECT()': 0}\n",
    "for b in df['USED']:\n",
    "    for m in b:\n",
    "        methods[m] += 1\n",
    "        \n",
    "pd.Series(methods).plot.pie(subplots=True, figsize=(10, 10), autopct='%.2f', title=[\"METHOD USED IN GAME\"])"
   ]
  },
  {
   "cell_type": "code",
   "execution_count": null,
   "metadata": {},
   "outputs": [],
   "source": [
    "dfe = pd.DataFrame({\n",
    "    #f'{name1} - used': df['USED'][name1].value_counts(),\n",
    "    f'{name1} - earn': df['EARN_BY'][name1],\n",
    "    #f'{name2} - used': df['USED'][name2].value_counts(),\n",
    "    f'{name2} - earn': df['EARN_BY'][name2],\n",
    "})\n",
    "dfe.plot.bar(figsize=(15, 5), grid=True, title=\"Points Earned by Methods\")"
   ]
  },
  {
   "cell_type": "code",
   "execution_count": null,
   "metadata": {},
   "outputs": [],
   "source": [
    "df['USED'][name1] = pd.Series(df['USED'][name1])\n",
    "df['USED'][name2] = pd.Series(df['USED'][name2])"
   ]
  },
  {
   "cell_type": "code",
   "execution_count": null,
   "metadata": {},
   "outputs": [],
   "source": [
    "dfu = pd.DataFrame({name1: df['USED'][name1].value_counts(),\n",
    "                   name2: df['USED'][name2].value_counts()})"
   ]
  },
  {
   "cell_type": "code",
   "execution_count": null,
   "metadata": {},
   "outputs": [],
   "source": [
    "dfu.plot.bar(figsize=(15, 5), grid=True, title=\"METHODS USED\", color=['r', 'b'])"
   ]
  },
  {
   "cell_type": "code",
   "execution_count": null,
   "metadata": {},
   "outputs": [],
   "source": [
    "dfu.plot.pie(subplots=True, figsize=(25, 25), autopct='%.2f', title=[\"METHOD USED\", \"METHOD USED\"])"
   ]
  },
  {
   "cell_type": "code",
   "execution_count": null,
   "metadata": {},
   "outputs": [],
   "source": [
    "df_win = pd.read_json(json.dumps(bot['WON_WITH']))"
   ]
  },
  {
   "cell_type": "code",
   "execution_count": null,
   "metadata": {},
   "outputs": [],
   "source": [
    "df_win.plot.pie(subplots=True, figsize=(25, 25), autopct='%.2f', title=[\"WON BY METHOD\", \"WON BY METHOD\"])"
   ]
  },
  {
   "cell_type": "code",
   "execution_count": null,
   "metadata": {},
   "outputs": [],
   "source": [
    "df_lost = pd.read_json(json.dumps(bot['LOST_WITH']))"
   ]
  },
  {
   "cell_type": "code",
   "execution_count": null,
   "metadata": {},
   "outputs": [],
   "source": [
    "df_lost.plot.pie(subplots=True, figsize=(25, 25), autopct='%.2f', title=[\"LOST BY METHOD\", \"LOST BY METHOD\"])"
   ]
  },
  {
   "cell_type": "code",
   "execution_count": null,
   "metadata": {},
   "outputs": [],
   "source": [
    "df_win.plot.bar(figsize=(15, 5), grid=True, title=\"WON WITH METHOD\", color=['r', 'b'])"
   ]
  },
  {
   "cell_type": "code",
   "execution_count": null,
   "metadata": {},
   "outputs": [],
   "source": [
    "df_lost.plot.bar(figsize=(15, 5), grid=True, title='LOST WITH METHOD', color=['r', 'b'])"
   ]
  },
  {
   "cell_type": "code",
   "execution_count": null,
   "metadata": {},
   "outputs": [],
   "source": [
    "win = df_win[name1].to_dict()\n",
    "lost = df_lost[name1].to_dict()\n",
    "\n",
    "df1 = pd.DataFrame({'Lost': lost, 'Won': win})\n",
    "df1.plot.bar(stacked=True, grid=True, figsize=(15, 5), title=f'{name1} - Won/Lost by Method')"
   ]
  },
  {
   "cell_type": "code",
   "execution_count": null,
   "metadata": {},
   "outputs": [],
   "source": [
    "win = df_win[name2].to_dict()\n",
    "lost = df_lost[name2].to_dict()\n",
    "\n",
    "df1 = pd.DataFrame({'Lost': lost, 'Won': win})\n",
    "df1.plot.bar(stacked=True, grid=True, figsize=(15, 5), title=f'{name2} - Won/Lost by Method')"
   ]
  },
  {
   "cell_type": "code",
   "execution_count": null,
   "metadata": {},
   "outputs": [],
   "source": []
  }
 ],
 "metadata": {
  "kernelspec": {
   "display_name": "Python 3",
   "language": "python",
   "name": "python3"
  },
  "language_info": {
   "codemirror_mode": {
    "name": "ipython",
    "version": 3
   },
   "file_extension": ".py",
   "mimetype": "text/x-python",
   "name": "python",
   "nbconvert_exporter": "python",
   "pygments_lexer": "ipython3",
   "version": "3.7.7"
  }
 },
 "nbformat": 4,
 "nbformat_minor": 4
}
